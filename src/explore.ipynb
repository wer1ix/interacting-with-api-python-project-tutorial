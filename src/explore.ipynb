{
    "cells": [
        {
            "cell_type": "markdown",
            "metadata": {},
            "source": [
                "# Explore here"
            ]
        },
        {
            "cell_type": "code",
            "execution_count": 1,
            "metadata": {},
            "outputs": [
                {
                    "name": "stdout",
                    "output_type": "stream",
                    "text": [
                        "Defaulting to user installation because normal site-packages is not writeable\n",
                        "Requirement already satisfied: spotipy in /home/vscode/.local/lib/python3.11/site-packages (2.23.0)\n",
                        "Requirement already satisfied: redis>=3.5.3 in /home/vscode/.local/lib/python3.11/site-packages (from spotipy) (6.2.0)\n",
                        "Requirement already satisfied: requests>=2.25.0 in /home/vscode/.local/lib/python3.11/site-packages (from spotipy) (2.27.1)\n",
                        "Requirement already satisfied: six>=1.15.0 in /home/vscode/.local/lib/python3.11/site-packages (from spotipy) (1.17.0)\n",
                        "Requirement already satisfied: urllib3>=1.26.0 in /home/vscode/.local/lib/python3.11/site-packages (from spotipy) (1.26.20)\n",
                        "Requirement already satisfied: certifi>=2017.4.17 in /home/vscode/.local/lib/python3.11/site-packages (from requests>=2.25.0->spotipy) (2025.7.14)\n",
                        "Requirement already satisfied: charset-normalizer~=2.0.0 in /home/vscode/.local/lib/python3.11/site-packages (from requests>=2.25.0->spotipy) (2.0.12)\n",
                        "Requirement already satisfied: idna<4,>=2.5 in /home/vscode/.local/lib/python3.11/site-packages (from requests>=2.25.0->spotipy) (3.10)\n",
                        "Note: you may need to restart the kernel to use updated packages.\n"
                    ]
                }
            ],
            "source": [
                "pip install spotipy"
            ]
        },
        {
            "cell_type": "code",
            "execution_count": 2,
            "metadata": {},
            "outputs": [
                {
                    "name": "stdout",
                    "output_type": "stream",
                    "text": [
                        "Defaulting to user installation because normal site-packages is not writeable\n",
                        "Requirement already satisfied: python-dotenv in /home/vscode/.local/lib/python3.11/site-packages (0.20.0)\n"
                    ]
                }
            ],
            "source": [
                "!pip install python-dotenv"
            ]
        },
        {
            "cell_type": "code",
            "execution_count": 3,
            "metadata": {},
            "outputs": [
                {
                    "data": {
                        "text/plain": [
                            "True"
                        ]
                    },
                    "execution_count": 3,
                    "metadata": {},
                    "output_type": "execute_result"
                }
            ],
            "source": [
                "import os\n",
                "import pandas as pd\n",
                "import matplotlib.pyplot as plt\n",
                "from dotenv import load_dotenv\n",
                "\n",
                "# load the .env file variables\n",
                "load_dotenv()"
            ]
        },
        {
            "cell_type": "code",
            "execution_count": 4,
            "metadata": {},
            "outputs": [],
            "source": [
                "# no podemos correr en env en jupyter notebook\n",
                "client_id = '43e01421459d47688a5cad29d0b1ed8b'\n",
                "client_secret = '0b747a3a6b4e4d31a8b356a91d558bcf'"
            ]
        },
        {
            "cell_type": "code",
            "execution_count": 33,
            "metadata": {},
            "outputs": [],
            "source": [
                "import spotipy\n",
                "from spotipy.oauth2 import SpotifyClientCredentials\n",
                "\n",
                "auth_manager = SpotifyClientCredentials(client_id=client_id, client_secret=client_secret)\n",
                "spotify = spotipy.Spotify(auth_manager=auth_manager)"
            ]
        },
        {
            "cell_type": "code",
            "execution_count": 34,
            "metadata": {},
            "outputs": [
                {
                    "name": "stdout",
                    "output_type": "stream",
                    "text": [
                        "Older + Upper\n",
                        "Older (Expanded Edition)\n",
                        "Listen Without Prejudice / MTV Unplugged (Deluxe)\n",
                        "Symphonica (Deluxe Version)\n",
                        "Patience\n",
                        "Songs From The Last Century\n",
                        "Older\n",
                        "Listen Without Prejudice Vol. 1 (Remastered)\n",
                        "Faith\n",
                        "Careless Whisper (sped up and slowed)\n"
                    ]
                }
            ],
            "source": [
                "# url george michael\n",
                "# https://open.spotify.com/intl-es/artist/19ra5tSw0tWufvUp8GotLo\n",
                "\n",
                "# tutorial\n",
                "# https://spotipy.readthedocs.io/en/2.22.1/\n",
                "\n",
                "birdy_uri = 'spotify:artist:19ra5tSw0tWufvUp8GotLo'\n",
                "spotify = spotipy.Spotify(client_credentials_manager=auth_manager)\n",
                "\n",
                "results = spotify.artist_albums(birdy_uri, album_type='album')\n",
                "albums = results['items']\n",
                "while results['next']:\n",
                "    results = spotify.next(results)\n",
                "    albums.extend(results['items'])\n",
                "\n",
                "for album in albums[:10]:\n",
                "    print(album['name'])"
            ]
        },
        {
            "cell_type": "code",
            "execution_count": 43,
            "metadata": {},
            "outputs": [
                {
                    "ename": "KeyError",
                    "evalue": "'items'",
                    "output_type": "error",
                    "traceback": [
                        "\u001b[31m---------------------------------------------------------------------------\u001b[39m",
                        "\u001b[31mKeyError\u001b[39m                                  Traceback (most recent call last)",
                        "\u001b[36mCell\u001b[39m\u001b[36m \u001b[39m\u001b[32mIn[43]\u001b[39m\u001b[32m, line 3\u001b[39m\n\u001b[32m      1\u001b[39m \u001b[38;5;66;03m# canciones dataframe\u001b[39;00m\n\u001b[32m      2\u001b[39m results = spotify.artist_top_tracks(birdy_uri)\n\u001b[32m----> \u001b[39m\u001b[32m3\u001b[39m tracks = \u001b[43mresults\u001b[49m\u001b[43m[\u001b[49m\u001b[33;43m'\u001b[39;49m\u001b[33;43mitems\u001b[39;49m\u001b[33;43m'\u001b[39;49m\u001b[43m]\u001b[49m\n",
                        "\u001b[31mKeyError\u001b[39m: 'items'"
                    ]
                }
            ],
            "source": [
                "# canciones dataframe\n",
                "results = spotify.artist_top_tracks(birdy_uri)\n",
                "tracks = results['items']"
            ]
        },
        {
            "cell_type": "code",
            "execution_count": 44,
            "metadata": {},
            "outputs": [],
            "source": [
                "canciones = []\n",
                "for track in tracks:\n",
                "    canciones.append([track['name'],track['album']['name'],track['popularity']])"
            ]
        },
        {
            "cell_type": "code",
            "execution_count": 45,
            "metadata": {},
            "outputs": [
                {
                    "data": {
                        "text/plain": [
                            "[['Careless Whisper', 'Ladies & Gentlemen', 77],\n",
                            " ['Faith - Remastered', 'Faith', 78],\n",
                            " [\"Father Figure - Remastered - featured in 'Babygirl'\", 'Faith', 71],\n",
                            " [\"Freedom! '90 - Remastered\",\n",
                            "  'Listen Without Prejudice Vol. 1 (Remastered)',\n",
                            "  72],\n",
                            " [\"Don't Let The Sun Go Down On Me - Live\", 'Love Songs', 60],\n",
                            " ['Fastlove, Pt. 1', 'Older', 68],\n",
                            " ['I Knew You Were Waiting (For Me)', 'ARETHA', 67],\n",
                            " ['One More Try - Remastered', 'Faith', 64],\n",
                            " ['Jesus to a Child', 'Older', 64],\n",
                            " ['As', 'Ladies & Gentlemen', 64]]"
                        ]
                    },
                    "execution_count": 45,
                    "metadata": {},
                    "output_type": "execute_result"
                }
            ],
            "source": [
                "canciones"
            ]
        },
        {
            "cell_type": "code",
            "execution_count": 48,
            "metadata": {},
            "outputs": [],
            "source": [
                "encabezado = ['canción', 'album', 'popularidad']\n",
                "df = pd.DataFrame(canciones,columns = encabezado)"
            ]
        },
        {
            "cell_type": "code",
            "execution_count": 49,
            "metadata": {},
            "outputs": [
                {
                    "data": {
                        "text/html": [
                            "<div>\n",
                            "<style scoped>\n",
                            "    .dataframe tbody tr th:only-of-type {\n",
                            "        vertical-align: middle;\n",
                            "    }\n",
                            "\n",
                            "    .dataframe tbody tr th {\n",
                            "        vertical-align: top;\n",
                            "    }\n",
                            "\n",
                            "    .dataframe thead th {\n",
                            "        text-align: right;\n",
                            "    }\n",
                            "</style>\n",
                            "<table border=\"1\" class=\"dataframe\">\n",
                            "  <thead>\n",
                            "    <tr style=\"text-align: right;\">\n",
                            "      <th></th>\n",
                            "      <th>canción</th>\n",
                            "      <th>album</th>\n",
                            "      <th>popularidad</th>\n",
                            "    </tr>\n",
                            "  </thead>\n",
                            "  <tbody>\n",
                            "    <tr>\n",
                            "      <th>0</th>\n",
                            "      <td>Careless Whisper</td>\n",
                            "      <td>Ladies &amp; Gentlemen</td>\n",
                            "      <td>77</td>\n",
                            "    </tr>\n",
                            "    <tr>\n",
                            "      <th>1</th>\n",
                            "      <td>Faith - Remastered</td>\n",
                            "      <td>Faith</td>\n",
                            "      <td>78</td>\n",
                            "    </tr>\n",
                            "    <tr>\n",
                            "      <th>2</th>\n",
                            "      <td>Father Figure - Remastered - featured in 'Baby...</td>\n",
                            "      <td>Faith</td>\n",
                            "      <td>71</td>\n",
                            "    </tr>\n",
                            "    <tr>\n",
                            "      <th>3</th>\n",
                            "      <td>Freedom! '90 - Remastered</td>\n",
                            "      <td>Listen Without Prejudice Vol. 1 (Remastered)</td>\n",
                            "      <td>72</td>\n",
                            "    </tr>\n",
                            "    <tr>\n",
                            "      <th>4</th>\n",
                            "      <td>Don't Let The Sun Go Down On Me - Live</td>\n",
                            "      <td>Love Songs</td>\n",
                            "      <td>60</td>\n",
                            "    </tr>\n",
                            "    <tr>\n",
                            "      <th>5</th>\n",
                            "      <td>Fastlove, Pt. 1</td>\n",
                            "      <td>Older</td>\n",
                            "      <td>68</td>\n",
                            "    </tr>\n",
                            "    <tr>\n",
                            "      <th>6</th>\n",
                            "      <td>I Knew You Were Waiting (For Me)</td>\n",
                            "      <td>ARETHA</td>\n",
                            "      <td>67</td>\n",
                            "    </tr>\n",
                            "    <tr>\n",
                            "      <th>7</th>\n",
                            "      <td>One More Try - Remastered</td>\n",
                            "      <td>Faith</td>\n",
                            "      <td>64</td>\n",
                            "    </tr>\n",
                            "    <tr>\n",
                            "      <th>8</th>\n",
                            "      <td>Jesus to a Child</td>\n",
                            "      <td>Older</td>\n",
                            "      <td>64</td>\n",
                            "    </tr>\n",
                            "    <tr>\n",
                            "      <th>9</th>\n",
                            "      <td>As</td>\n",
                            "      <td>Ladies &amp; Gentlemen</td>\n",
                            "      <td>64</td>\n",
                            "    </tr>\n",
                            "  </tbody>\n",
                            "</table>\n",
                            "</div>"
                        ],
                        "text/plain": [
                            "                                             canción  \\\n",
                            "0                                   Careless Whisper   \n",
                            "1                                 Faith - Remastered   \n",
                            "2  Father Figure - Remastered - featured in 'Baby...   \n",
                            "3                          Freedom! '90 - Remastered   \n",
                            "4             Don't Let The Sun Go Down On Me - Live   \n",
                            "5                                    Fastlove, Pt. 1   \n",
                            "6                   I Knew You Were Waiting (For Me)   \n",
                            "7                          One More Try - Remastered   \n",
                            "8                                   Jesus to a Child   \n",
                            "9                                                 As   \n",
                            "\n",
                            "                                          album  popularidad  \n",
                            "0                            Ladies & Gentlemen           77  \n",
                            "1                                         Faith           78  \n",
                            "2                                         Faith           71  \n",
                            "3  Listen Without Prejudice Vol. 1 (Remastered)           72  \n",
                            "4                                    Love Songs           60  \n",
                            "5                                         Older           68  \n",
                            "6                                        ARETHA           67  \n",
                            "7                                         Faith           64  \n",
                            "8                                         Older           64  \n",
                            "9                            Ladies & Gentlemen           64  "
                        ]
                    },
                    "execution_count": 49,
                    "metadata": {},
                    "output_type": "execute_result"
                }
            ],
            "source": [
                "df"
            ]
        },
        {
            "cell_type": "code",
            "execution_count": null,
            "metadata": {},
            "outputs": [],
            "source": []
        }
    ],
    "metadata": {
        "kernelspec": {
            "display_name": "Python 3",
            "language": "python",
            "name": "python3"
        },
        "language_info": {
            "codemirror_mode": {
                "name": "ipython",
                "version": 3
            },
            "file_extension": ".py",
            "mimetype": "text/x-python",
            "name": "python",
            "nbconvert_exporter": "python",
            "pygments_lexer": "ipython3",
            "version": "3.11.4"
        },
        "orig_nbformat": 4
    },
    "nbformat": 4,
    "nbformat_minor": 2
}
